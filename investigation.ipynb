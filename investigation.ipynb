{
 "cells": [
  {
   "cell_type": "code",
   "execution_count": null,
   "metadata": {},
   "outputs": [],
   "source": [
    "from pyproj import CRS, Transformer\n",
    "\n",
    "# Define the coordinate reference systems\n",
    "osgb36 = CRS(\"EPSG:27700\")  # OSGB36, the British National Grid\n",
    "wgs84 = CRS(\"EPSG:4326\")    # WGS84, used for GPS coordinates\n",
    "\n"
   ]
  },
  {
   "cell_type": "code",
   "execution_count": null,
   "metadata": {},
   "outputs": [],
   "source": [
    "# Create a transformer to convert from OSGB36 to WGS84\n",
    "transformer = Transformer.from_crs(osgb36, wgs84, always_xy=True)\n",
    "\n",
    "# Example grid reference (Easting and Northing)\n",
    "easting = 471750\n",
    "northing = 118700\n",
    "\n",
    "# Transform to latitude and longitude\n",
    "beaconLong, beaconLat = transformer.transform(easting, northing)\n",
    "\n",
    "print(f\"Latitude: {beaconLat}, Longitude: {beaconLong}\")\n"
   ]
  },
  {
   "cell_type": "markdown",
   "metadata": {},
   "source": [
    "## GPX\n"
   ]
  },
  {
   "cell_type": "code",
   "execution_count": null,
   "metadata": {},
   "outputs": [],
   "source": [
    "import pandas as pd\n",
    "import gpxpy\n",
    "\n",
    "# Read GPX file\n",
    "with open('sdw.gpx', 'r') as gpx_file:\n",
    "    gpx = gpxpy.parse(gpx_file)\n",
    "\n",
    "# Extract track points data\n",
    "data = []\n",
    "for track in gpx.tracks:\n",
    "    for segment in track.segments:\n",
    "        for point in segment.points:\n",
    "            data.append([point.latitude, point.longitude, point.elevation, point.time])\n",
    "\n",
    "# Create a DataFrame\n",
    "df = pd.DataFrame(data, columns=['Latitude', 'Longitude', 'Elevation', 'Time'])\n",
    "\n",
    "# Show DataFrame\n",
    "print(df)"
   ]
  },
  {
   "cell_type": "markdown",
   "metadata": {},
   "source": [
    "### Folium visualisation"
   ]
  },
  {
   "cell_type": "code",
   "execution_count": null,
   "metadata": {},
   "outputs": [],
   "source": [
    "import folium\n",
    "\n",
    "first_point = gpx.tracks[0].segments[0].points[0]\n",
    "m = folium.Map(location=[first_point.latitude, first_point.longitude], zoom_start=14)\n",
    "\n"
   ]
  },
  {
   "cell_type": "code",
   "execution_count": null,
   "metadata": {},
   "outputs": [],
   "source": [
    "# Plot track\n",
    "for track in gpx.tracks:\n",
    "    for segment in track.segments:\n",
    "        points = [(point.latitude, point.longitude) for point in segment.points]\n",
    "        folium.PolyLine(points, color=\"red\", weight=2.5, opacity=0.5).add_to(m)\n",
    "\n",
    "# Display map\n",
    "# m.save('GPX_track_map.html')\n",
    "m  # if running in Jupyter, this will display the map inline"
   ]
  },
  {
   "cell_type": "markdown",
   "metadata": {},
   "source": [
    "## The Fun Stuff\n",
    "I want to find the total elevation gain between two points on the map. \n",
    "\n",
    "* Start of the hike\n",
    "* Beacon Hill, first camp site:\n",
    "\\(50.9978318828897, -1.1406610794684595\\). Stored in `beaconLat` and `beaconLong` variables defined in cell 2\n"
   ]
  },
  {
   "cell_type": "code",
   "execution_count": null,
   "metadata": {},
   "outputs": [],
   "source": [
    "first_point"
   ]
  },
  {
   "cell_type": "markdown",
   "metadata": {},
   "source": [
    "I want to find the index in the gpx that corresponds to Beacon Hill"
   ]
  },
  {
   "cell_type": "code",
   "execution_count": null,
   "metadata": {},
   "outputs": [],
   "source": [
    "minDist = 100\n",
    "closestPoint = None\n",
    "beaconIdx = None\n",
    "for idx, point in enumerate(gpx.tracks[0].segments[0].points):\n",
    "    dist = ((point.latitude - beaconLat)**2 + (point.longitude - beaconLong)**2)**0.5\n",
    "    if dist < minDist:\n",
    "        minDist = dist\n",
    "        closestPoint = point\n",
    "        beaconIdx = idx\n",
    "\n",
    "print(f\"Closest point is {closestPoint} at index {beaconIdx} with distance {minDist}\")"
   ]
  },
  {
   "cell_type": "code",
   "execution_count": null,
   "metadata": {},
   "outputs": [],
   "source": [
    "# folium.Marker([closestPoint.latitude, closestPoint.longitude], popup='Beacon Hill').add_to(m)\n",
    "# folium.Marker([beaconLat, beaconLong], popup='Measured Gridref').add_to(m)\n",
    "coordinates = (-1.3185442160877858, 51.06329954208766), (-1.1406610794684595, 50.9978318828897), (-0.9796756545673202, 50.96326470728358), (-0.7706888049170811, 50.944885672656625), (-0.5403043488498133, 50.8969989412216)\n",
    "colors = ['green', 'blue', 'blue', 'blue', 'red']\n",
    "icons = ['star', 'map-marker', 'map-marker', 'map-marker', 'flag']\n",
    "for p, color, icon in zip(coordinates, colors, icons):\n",
    "    print(list(p[::-1]))\n",
    "    folium.Marker(list(p[::-1]), icon=folium.Icon(color=color, icon=icon)).add_to(m)\n",
    "m"
   ]
  },
  {
   "cell_type": "code",
   "execution_count": null,
   "metadata": {},
   "outputs": [],
   "source": [
    "total_uphill = 0\n",
    "route = gpx.tracks[0].segments[0].points\n",
    "for i in range(beaconIdx):\n",
    "    elevation_change = route[i+1].elevation - route[i].elevation\n",
    "    if elevation_change > 0:\n",
    "        total_uphill += elevation_change \n",
    "\n",
    "print(f\"Total uphill: {total_uphill}m\")"
   ]
  },
  {
   "cell_type": "code",
   "execution_count": null,
   "metadata": {},
   "outputs": [],
   "source": []
  }
 ],
 "metadata": {
  "kernelspec": {
   "display_name": "Python 3",
   "language": "python",
   "name": "python3"
  },
  "language_info": {
   "codemirror_mode": {
    "name": "ipython",
    "version": 3
   },
   "file_extension": ".py",
   "mimetype": "text/x-python",
   "name": "python",
   "nbconvert_exporter": "python",
   "pygments_lexer": "ipython3",
   "version": "3.10.12"
  }
 },
 "nbformat": 4,
 "nbformat_minor": 2
}
