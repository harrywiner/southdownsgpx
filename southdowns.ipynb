{
 "cells": [
  {
   "cell_type": "code",
   "execution_count": null,
   "metadata": {},
   "outputs": [],
   "source": [
    "import folium\n",
    "import pandas as pd\n",
    "import gpxpy\n",
    "from geopy.distance import geodesic\n",
    "import matplotlib.pyplot as plt\n",
    "\n",
    "\n",
    "map_center = (50.96326470728358, -0.9796756545673202) # day two campsite\n",
    "m = folium.Map(location=[map_center[0], map_center[1]], zoom_start=11)\n",
    "\n",
    "m"
   ]
  },
  {
   "cell_type": "markdown",
   "metadata": {},
   "source": [
    "## Goal\n",
    "- [x] Display the full route on a map with camping spots\n",
    "- [ ] Determine speed\n",
    "- [ ] display speed as a colour gradient on the map\n",
    "- [ ] graph gradient vs speed"
   ]
  },
  {
   "cell_type": "code",
   "execution_count": null,
   "metadata": {},
   "outputs": [],
   "source": [
    "gpx_days = []\n",
    "for i in range(1,5):\n",
    "    with open(f\"activities/sdw_{i}.gpx\", \"r\") as gpx_file:\n",
    "        gpx_days.append(gpxpy.parse(gpx_file))\n"
   ]
  },
  {
   "cell_type": "code",
   "execution_count": null,
   "metadata": {},
   "outputs": [],
   "source": [
    "colors = [\"red\", \"blue\", \"green\", \"purple\"]\n",
    "for (day, color) in zip(gpx_days, colors): \n",
    "    for track in day.tracks:\n",
    "        for segment in track.segments:\n",
    "            points = [(point.latitude, point.longitude) for point in segment.points]\n",
    "            folium.PolyLine(points, color=color, weight=2.5, opacity=0.5).add_to(m)\n",
    "\n",
    "m"
   ]
  },
  {
   "cell_type": "code",
   "execution_count": null,
   "metadata": {},
   "outputs": [],
   "source": [
    "gpx_days[0].tracks[0].segments[0].points[0]"
   ]
  },
  {
   "cell_type": "code",
   "execution_count": null,
   "metadata": {},
   "outputs": [],
   "source": [
    "for day in gpx_days:\n",
    "    print(len(day.tracks), len(day.tracks[0].segments), len(day.tracks[0].segments[0].points))"
   ]
  },
  {
   "cell_type": "markdown",
   "metadata": {},
   "source": [
    "## Add speed to track object"
   ]
  },
  {
   "cell_type": "code",
   "execution_count": null,
   "metadata": {},
   "outputs": [],
   "source": [
    "def calc_speed(point1, point2):\n",
    "    \"\"\" Given two gpx points, return their speed in m/s\"\"\"\n",
    "    distance = geodesic((point1.latitude, point1.longitude), (point2.latitude, point2.longitude)).meters\n",
    "    time_diff = (point2.time - point1.time).total_seconds()\n",
    "    return distance / time_diff\n"
   ]
  },
  {
   "cell_type": "code",
   "execution_count": null,
   "metadata": {},
   "outputs": [],
   "source": [
    "for day in gpx_days:\n",
    "    seg = day.tracks[0].segments[0]\n",
    "    seg.points[0].speed = 0\n",
    "    for i in range(1, len(seg.points)):\n",
    "        seg.points[i].speed = calc_speed(seg.points[i-1], seg.points[i])\n",
    "\n",
    "speeds = [p.speed for p in gpx_days[3].tracks[0].segments[0].points]\n"
   ]
  },
  {
   "cell_type": "code",
   "execution_count": null,
   "metadata": {},
   "outputs": [],
   "source": [
    "plt.plot(speeds)\n",
    "plt.xlabel('Data Point')\n",
    "plt.ylabel('Speed')\n",
    "plt.title('Speed Plot')\n",
    "plt.show()\n"
   ]
  },
  {
   "cell_type": "markdown",
   "metadata": {},
   "source": [
    "### Elevation change"
   ]
  },
  {
   "cell_type": "code",
   "execution_count": null,
   "metadata": {},
   "outputs": [],
   "source": [
    "elevation_change = []\n",
    "for day in gpx_days:\n",
    "    elevs = [0]\n",
    "    seg = day.tracks[0].segments[0]\n",
    "    for i in range(1, len(seg.points)):\n",
    "        elevs.append(seg.points[i].elevation - seg.points[i-1].elevation)\n",
    "    elevation_change.append(elevs)\n",
    "\n",
    "elevation_change"
   ]
  },
  {
   "cell_type": "code",
   "execution_count": null,
   "metadata": {},
   "outputs": [],
   "source": [
    "plt.plot(elevation_change[3])\n",
    "plt.xlabel('Data Point')\n",
    "plt.ylabel('Elevation Change (m)')\n",
    "plt.title('Elevation Change')\n",
    "plt.show()\n"
   ]
  },
  {
   "cell_type": "markdown",
   "metadata": {},
   "source": [
    "## Data Organising\n",
    "\n",
    "Move the gpx points and elevation changes into a pandas dataframe"
   ]
  },
  {
   "cell_type": "code",
   "execution_count": null,
   "metadata": {},
   "outputs": [],
   "source": [
    "temp = []\n",
    "\n",
    "for (days, elevs) in zip(gpx_days,elevation_change):\n",
    "    for (p, e) in zip(days.tracks[0].segments[0].points, elevs):\n",
    "        temp.append({\n",
    "            \"latitude\": p.latitude,\n",
    "            \"longitude\": p.longitude,\n",
    "            \"time\": p.time.timestamp(),\n",
    "            \"elevation_change\": e,\n",
    "            \"elevation\": p.elevation,\n",
    "            \"speed\": p.speed * 3.6\n",
    "        })\n",
    "\n",
    "df = pd.DataFrame(temp)"
   ]
  },
  {
   "cell_type": "code",
   "execution_count": null,
   "metadata": {},
   "outputs": [],
   "source": [
    "df.describe()"
   ]
  },
  {
   "cell_type": "markdown",
   "metadata": {},
   "source": [
    "## Data Cleaning\n",
    "* Gaussian smoothing on the speed data\n",
    "* Z-score threshold, if above z score, default value is expected value"
   ]
  },
  {
   "cell_type": "code",
   "execution_count": null,
   "metadata": {},
   "outputs": [],
   "source": [
    "from scipy.ndimage import gaussian_filter1d\n",
    "import numpy as np \n",
    "\n",
    "speed = df['speed']\n",
    "z_score_threshold = 3\n",
    "z_scores = (speed - np.mean(speed)) / np.std(speed)\n",
    "\n",
    "speed_mean = np.mean(speed)\n",
    "\n",
    "speed_processed = [s if z < z_score_threshold else speed_mean for (s, z) in zip(speed, z_scores)]\n",
    "\n",
    "sigma = 2  # You can adjust the sigma value to control the smoothing level\n",
    "speed_smoothed = gaussian_filter1d(speed_processed, sigma=sigma)\n",
    "\n",
    "\n",
    "df['speed_smoothed'] = speed_smoothed"
   ]
  },
  {
   "cell_type": "code",
   "execution_count": null,
   "metadata": {},
   "outputs": [],
   "source": [
    "plt.figure(figsize=(10, 5))\n",
    "plt.scatter(df['time'], df['speed'], label='Original Speed')\n",
    "plt.scatter(df['time'], df['speed_smoothed'], label='Smoothed Speed', color='red')\n",
    "plt.xlabel('Time')\n",
    "plt.ylabel('Speed')\n",
    "plt.legend()\n",
    "plt.show()"
   ]
  },
  {
   "cell_type": "code",
   "execution_count": null,
   "metadata": {},
   "outputs": [],
   "source": [
    "import matplotlib.pyplot as plt\n",
    "\n",
    "bins = 20\n",
    "# plt.hist(df['speed'], bins=bins, alpha=0.5, label='Speed')\n",
    "plt.hist(df['speed_smoothed'], bins=bins, alpha=0.5, label='Smoothed Speed')\n",
    "plt.xlabel('Speed')\n",
    "plt.ylabel('Frequency')\n",
    "plt.title('Speed vs Smoothed Speed Histogram')\n",
    "plt.legend()\n",
    "plt.show()\n"
   ]
  },
  {
   "cell_type": "code",
   "execution_count": null,
   "metadata": {},
   "outputs": [],
   "source": [
    "output = df.copy()\n",
    "output['speed'] = output['speed_smoothed']\n",
    "output.drop('speed_smoothed', axis=1, inplace=True)\n",
    "\n",
    "output.to_csv('south_downs_way.csv')"
   ]
  },
  {
   "cell_type": "markdown",
   "metadata": {},
   "source": [
    "## Advanced visualisations\n",
    "\n",
    "Overlay speed variable as color over total route graph"
   ]
  },
  {
   "cell_type": "code",
   "execution_count": null,
   "metadata": {},
   "outputs": [],
   "source": [
    "from folium import plugins\n",
    "import branca.colormap as cm\n",
    "\n",
    "def create_variate_map(df, column_name, units, save=False):\n",
    "\n",
    "    m = folium.Map(location=[df['latitude'].mean(), df['longitude'].mean()], zoom_start=11)\n",
    "\n",
    "    upper_column_name = column_name[0].upper() + column_name[1:]\n",
    "    # Create a color scale\n",
    "    colormap = cm.LinearColormap(colors=['green', 'yellow', 'red'], vmin=df[column_name].min(), vmax=df[column_name].max())\n",
    "    colormap.caption = f'{upper_column_name} ({units})'\n",
    "\n",
    "    # Add points to the map\n",
    "    for _, row in df.iterrows():\n",
    "        folium.CircleMarker(\n",
    "            location=[row['latitude'], row['longitude']],\n",
    "            radius=2,\n",
    "            popup=f\"{upper_column_name}: {row[column_name]} {units}\",\n",
    "            color=colormap(row[column_name]),\n",
    "            fill=True,\n",
    "            fill_color=colormap(row[column_name]),\n",
    "            fill_opacity=0.7\n",
    "        ).add_to(m)\n",
    "\n",
    "    # Add color scale to map\n",
    "    m.add_child(colormap)\n",
    "\n",
    "    # Save map to an HTML file\n",
    "    if save:\n",
    "        m.save('map.html')\n",
    "    return m\n"
   ]
  },
  {
   "cell_type": "code",
   "execution_count": null,
   "metadata": {},
   "outputs": [],
   "source": [
    "df['latitude'].mean(), df['longitude'].mean()"
   ]
  },
  {
   "cell_type": "code",
   "execution_count": null,
   "metadata": {},
   "outputs": [],
   "source": [
    "speed_map = create_variate_map(df, \"speed\", \"km/h\")\n",
    "speed_map"
   ]
  },
  {
   "cell_type": "code",
   "execution_count": null,
   "metadata": {},
   "outputs": [],
   "source": [
    "elevation_map = create_variate_map(df, \"elevation\", \"m\")\n",
    "elevation_map"
   ]
  },
  {
   "cell_type": "code",
   "execution_count": null,
   "metadata": {},
   "outputs": [],
   "source": [
    "smoothed_speed_map = create_variate_map(df, \"speed_smoothed\", \"km/h\")\n",
    "smoothed_speed_map"
   ]
  },
  {
   "cell_type": "markdown",
   "metadata": {},
   "source": [
    "## Switching between layers"
   ]
  },
  {
   "cell_type": "code",
   "execution_count": null,
   "metadata": {},
   "outputs": [],
   "source": [
    "def create_feature_group(data, column_name,units,map, colors=['green', 'yellow', 'red']):\n",
    "    upper_column_name = column_name[0].upper() + column_name[1:]\n",
    "\n",
    "    colormap = cm.LinearColormap(colors, vmin=df[column_name].min(), vmax=df[column_name].max())\n",
    "    colormap.caption = f'{upper_column_name} ({units})'\n",
    "\n",
    "    feature_group = folium.FeatureGroup(name=upper_column_name)\n",
    "    for _, row in data.iterrows():\n",
    "        folium.CircleMarker(\n",
    "            location=[row['latitude'], row['longitude']],\n",
    "            radius=2,\n",
    "            popup=f\"{upper_column_name}: {row[column_name]} {units}\",\n",
    "            color=colormap(row[column_name]),\n",
    "            fill=True,\n",
    "            fill_color=colormap(row[column_name]),\n",
    "            fill_opacity=0.7\n",
    "        ).add_to(feature_group)\n",
    "    map.add_child(colormap)\n",
    "    return feature_group"
   ]
  },
  {
   "cell_type": "code",
   "execution_count": null,
   "metadata": {},
   "outputs": [],
   "source": [
    "\n",
    "\n",
    "layer_map = folium.Map(location=[df['latitude'].mean(), df['longitude'].mean()], zoom_start=11)\n",
    "\n",
    "# Create feature groups for each dataset\n",
    "feature_group1 = create_feature_group(df, 'speed', 'm/s', layer_map)\n",
    "feature_group2 = create_feature_group(df, 'elevation', 'm', layer_map)\n",
    "\n",
    "# Add feature groups to the map\n",
    "feature_group1.add_to(layer_map)\n",
    "feature_group2.add_to(layer_map)\n",
    "\n",
    "# Add LayerControl to switch between layers\n",
    "folium.LayerControl().add_to(layer_map)\n",
    "\n",
    "# layer_map.save('layermap.html')\n",
    "\n",
    "layer_map"
   ]
  },
  {
   "cell_type": "code",
   "execution_count": null,
   "metadata": {},
   "outputs": [],
   "source": []
  }
 ],
 "metadata": {
  "kernelspec": {
   "display_name": "Python 3",
   "language": "python",
   "name": "python3"
  },
  "language_info": {
   "codemirror_mode": {
    "name": "ipython",
    "version": 3
   },
   "file_extension": ".py",
   "mimetype": "text/x-python",
   "name": "python",
   "nbconvert_exporter": "python",
   "pygments_lexer": "ipython3",
   "version": "3.9.6"
  }
 },
 "nbformat": 4,
 "nbformat_minor": 2
}
