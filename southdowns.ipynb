{
 "cells": [
  {
   "cell_type": "code",
   "execution_count": null,
   "metadata": {},
   "outputs": [],
   "source": [
    "import folium\n",
    "import pandas as pd\n",
    "import gpxpy\n",
    "from geopy.distance import geodesic\n",
    "import matplotlib.pyplot as plt\n",
    "import matplotlib.patches as patches\n",
    "\n",
    "\n",
    "map_center = (50.96326470728358, -0.9796756545673202) # day two campsite\n",
    "m = folium.Map(location=[map_center[0], map_center[1]], zoom_start=11)\n",
    "\n",
    "m"
   ]
  },
  {
   "cell_type": "markdown",
   "metadata": {},
   "source": [
    "## Goal\n",
    "- [x] Display the full route on a map with camping spots\n",
    "- [ ] Determine speed\n",
    "- [ ] display speed as a colour gradient on the map\n",
    "- [ ] graph gradient vs speed"
   ]
  },
  {
   "cell_type": "code",
   "execution_count": null,
   "metadata": {},
   "outputs": [],
   "source": [
    "gpx_days = []\n",
    "for i in range(1,5):\n",
    "    with open(f\"data/sdw_{i}.gpx\", \"r\") as gpx_file:\n",
    "        gpx_days.append(gpxpy.parse(gpx_file))\n"
   ]
  },
  {
   "cell_type": "code",
   "execution_count": null,
   "metadata": {},
   "outputs": [],
   "source": [
    "colors = [\"red\", \"blue\", \"green\", \"purple\"]\n",
    "for (day, color) in zip(gpx_days, colors): \n",
    "    for track in day.tracks:\n",
    "        for segment in track.segments:\n",
    "            points = [(point.latitude, point.longitude) for point in segment.points]\n",
    "            folium.PolyLine(points, color=color, weight=2.5, opacity=0.5).add_to(m)\n",
    "\n",
    "m"
   ]
  },
  {
   "cell_type": "code",
   "execution_count": null,
   "metadata": {},
   "outputs": [],
   "source": [
    "gpx_days[0].tracks[0].segments[0].points[0]"
   ]
  },
  {
   "cell_type": "code",
   "execution_count": null,
   "metadata": {},
   "outputs": [],
   "source": [
    "for day in gpx_days:\n",
    "    print(len(day.tracks), len(day.tracks[0].segments), len(day.tracks[0].segments[0].points))"
   ]
  },
  {
   "cell_type": "markdown",
   "metadata": {},
   "source": [
    "## Add speed to track object"
   ]
  },
  {
   "cell_type": "code",
   "execution_count": null,
   "metadata": {},
   "outputs": [],
   "source": [
    "def calc_speed(point1, point2):\n",
    "    \"\"\" Given two gpx points, return their speed in m/s\"\"\"\n",
    "    distance = geodesic((point1.latitude, point1.longitude), (point2.latitude, point2.longitude)).meters\n",
    "    time_diff = (point2.time - point1.time).total_seconds()\n",
    "    return distance / time_diff\n"
   ]
  },
  {
   "cell_type": "code",
   "execution_count": null,
   "metadata": {},
   "outputs": [],
   "source": [
    "for day in gpx_days:\n",
    "    seg = day.tracks[0].segments[0]\n",
    "    seg.points[0].speed = 0\n",
    "    for i in range(1, len(seg.points)):\n",
    "        seg.points[i].speed = calc_speed(seg.points[i-1], seg.points[i])\n",
    "\n",
    "speeds = [p.speed for p in gpx_days[3].tracks[0].segments[0].points]\n"
   ]
  },
  {
   "cell_type": "code",
   "execution_count": null,
   "metadata": {},
   "outputs": [],
   "source": [
    "plt.plot(speeds)\n",
    "plt.xlabel('Data Point')\n",
    "plt.ylabel('Speed')\n",
    "plt.title('Speed Plot')\n",
    "plt.show()\n"
   ]
  },
  {
   "cell_type": "markdown",
   "metadata": {},
   "source": [
    "### Elevation change"
   ]
  },
  {
   "cell_type": "code",
   "execution_count": null,
   "metadata": {},
   "outputs": [],
   "source": [
    "elevation_change = []\n",
    "for day in gpx_days:\n",
    "    elevs = [0]\n",
    "    seg = day.tracks[0].segments[0]\n",
    "    for i in range(1, len(seg.points)):\n",
    "        elevs.append(seg.points[i].elevation - seg.points[i-1].elevation)\n",
    "    elevation_change.append(elevs)\n",
    "\n",
    "elevation_change"
   ]
  },
  {
   "cell_type": "code",
   "execution_count": null,
   "metadata": {},
   "outputs": [],
   "source": [
    "plt.plot(elevation_change[3])\n",
    "plt.xlabel('Data Point')\n",
    "plt.ylabel('Elevation Change (m)')\n",
    "plt.title('Elevation Change')\n",
    "plt.show()\n"
   ]
  },
  {
   "cell_type": "markdown",
   "metadata": {},
   "source": [
    "## Data Organising\n",
    "\n",
    "Move the gpx points and elevation changes into a pandas dataframe"
   ]
  },
  {
   "cell_type": "code",
   "execution_count": null,
   "metadata": {},
   "outputs": [],
   "source": [
    "temp = []\n",
    "\n",
    "for i, (days, elevs) in enumerate(zip(gpx_days,elevation_change)):\n",
    "    for (p, e) in zip(days.tracks[0].segments[0].points, elevs):\n",
    "        temp.append({\n",
    "            \"latitude\": p.latitude,\n",
    "            \"longitude\": p.longitude,\n",
    "            \"time\": p.time.timestamp(),\n",
    "            \"elevation_change\": e,\n",
    "            \"elevation\": p.elevation,\n",
    "            \"speed\": p.speed * 3.6,\n",
    "            \"day\": i + 1\n",
    "        })\n",
    "\n",
    "df = pd.DataFrame(temp)"
   ]
  },
  {
   "cell_type": "markdown",
   "metadata": {},
   "source": [
    "Adding distance and gradient. Both are defined for a point i as the gradient/distance from i-1 to i, where the 0 index is 0 for both"
   ]
  },
  {
   "cell_type": "code",
   "execution_count": null,
   "metadata": {},
   "outputs": [],
   "source": [
    "distance = []\n",
    "gradient = [] \n",
    "\n",
    "lats = df[\"latitude\"].values\n",
    "lons = df[\"longitude\"].values\n",
    "echange = df[\"elevation_change\"].values\n",
    "\n",
    "for i in range(1, len(lats)):\n",
    "    distance.append(geodesic((lats[i-1], lons[i-1]), (lats[i], lons[i])).meters)\n",
    "    if distance[-1] == 0:\n",
    "        gradient.append(0)\n",
    "    else: \n",
    "      gradient.append(echange[i] / distance[-1])\n",
    "\n",
    "df[\"distance\"] = [0] + distance\n",
    "df[\"gradient\"] = [0] + gradient"
   ]
  },
  {
   "cell_type": "code",
   "execution_count": null,
   "metadata": {},
   "outputs": [],
   "source": [
    "df.describe()"
   ]
  },
  {
   "cell_type": "markdown",
   "metadata": {},
   "source": [
    "## Data Cleaning\n",
    "* Gaussian smoothing on the speed data\n",
    "* Z-score threshold, if above z score, default value is expected value"
   ]
  },
  {
   "cell_type": "code",
   "execution_count": null,
   "metadata": {},
   "outputs": [],
   "source": [
    "from scipy.ndimage import gaussian_filter1d\n",
    "import numpy as np \n",
    "\n",
    "speed = df['speed']\n",
    "z_score_threshold = 3\n",
    "z_scores = (speed - np.mean(speed)) / np.std(speed)\n",
    "\n",
    "speed_mean = np.mean(speed)\n",
    "\n",
    "speed_processed = [s if z < z_score_threshold else speed_mean for (s, z) in zip(speed, z_scores)]\n",
    "\n",
    "sigma = 2  # You can adjust the sigma value to control the smoothing level\n",
    "speed_smoothed = gaussian_filter1d(speed_processed, sigma=sigma)\n",
    "\n",
    "\n",
    "df['speed_smoothed'] = speed_smoothed"
   ]
  },
  {
   "cell_type": "code",
   "execution_count": null,
   "metadata": {},
   "outputs": [],
   "source": [
    "speed_mean + np.std(speed) * 3"
   ]
  },
  {
   "cell_type": "code",
   "execution_count": null,
   "metadata": {},
   "outputs": [],
   "source": [
    "fig, ax = plt.subplots(figsize=(10, 5))\n",
    "ax.scatter(df['time'], df['speed'], label='Speed')\n",
    "ax.set_xlabel('Time')\n",
    "ax.set_ylabel('Speed (km/h)')\n",
    "ax.set_title('Raw Speed Plot')\n",
    "\n",
    "rect = patches.Rectangle((min(df['time']) - 5e3, 8), max(df['time']) - min(df['time']) + 1e4, 5.4, linewidth=1, edgecolor='r', facecolor='none', label=\"Most Likely Erroneous\")\n",
    "ax.add_patch(rect)\n",
    "\n",
    "ax.legend()\n",
    "plt.show()"
   ]
  },
  {
   "cell_type": "code",
   "execution_count": null,
   "metadata": {},
   "outputs": [],
   "source": [
    "plt.figure(figsize=(10, 5))\n",
    "plt.scatter(df['time'], df['speed'], label='Original Speed')\n",
    "plt.scatter(df['time'], df['speed_smoothed'], label='Smoothed Speed', color='red')\n",
    "plt.xlabel('Time (ms)')\n",
    "plt.ylabel('Speed (km/h)')\n",
    "plt.legend()\n",
    "plt.show()"
   ]
  },
  {
   "cell_type": "code",
   "execution_count": null,
   "metadata": {},
   "outputs": [],
   "source": [
    "import matplotlib.pyplot as plt\n",
    "\n",
    "bins = 20\n",
    "import numpy as np\n",
    "import matplotlib.pyplot as plt\n",
    "\n",
    "# Create the figure and subplots\n",
    "fig, axs = plt.subplots(1, 2, figsize=(10, 5))\n",
    "\n",
    "# Plot on the first subplot\n",
    "axs[0].hist(df['speed'], bins=bins * 2)\n",
    "axs[0].set_title('Raw Speed Histogram')\n",
    "axs[0].set_xlabel('Speed (km/h)')\n",
    "axs[0].set_ylabel('Frequency')\n",
    "\n",
    "# Plot on the second subplot\n",
    "axs[1].hist(df['speed_smoothed'], bins=bins, color = \"orange\")\n",
    "axs[1].set_title('Cleaned Speed Histogram')\n",
    "axs[1].set_xlabel('Speed (km/h)')\n",
    "axs[1].set_ylabel('Frequency')\n",
    "\n",
    "# Adjust the spacing between subplots\n",
    "plt.tight_layout()\n",
    "\n",
    "# Show the plot\n",
    "plt.show()\n"
   ]
  },
  {
   "cell_type": "markdown",
   "metadata": {},
   "source": [
    "### Elevation Change\n",
    "From some experimentation, elevation_change contains some garbage data, let's get rid of it "
   ]
  },
  {
   "cell_type": "code",
   "execution_count": null,
   "metadata": {},
   "outputs": [],
   "source": [
    "df.plot(x='time', y='elevation_change')"
   ]
  },
  {
   "cell_type": "code",
   "execution_count": null,
   "metadata": {},
   "outputs": [],
   "source": [
    "import scipy.stats as stats\n",
    "\n",
    "# Calculate z-scores\n",
    "zscores = stats.zscore(df[\"elevation_change\"])\n",
    "\n",
    "# Display the DataFrame with z-scores\n",
    "# print(list(filter(lambda x: x > 3, zscores)))\n",
    "\n",
    "for (z, val) in zip(zscores, df[\"elevation_change\"]):\n",
    "    if z > 3:\n",
    "        print(val, z)\n",
    "\n",
    "echangemean = df[\"elevation_change\"].mean()\n",
    "\n",
    "df[\"elevation_change\"] = [echangemean if z > 3 else val for (z, val) in zip(zscores, df[\"elevation_change\"])]"
   ]
  },
  {
   "cell_type": "code",
   "execution_count": null,
   "metadata": {},
   "outputs": [],
   "source": [
    "output = df.copy()\n",
    "output['speed'] = output['speed_smoothed']\n",
    "output.drop('speed_smoothed', axis=1, inplace=True)\n",
    "\n",
    "output.to_csv('south_downs_way.csv')"
   ]
  },
  {
   "cell_type": "markdown",
   "metadata": {},
   "source": [
    "### Next working with Gradient and Distance"
   ]
  },
  {
   "cell_type": "code",
   "execution_count": null,
   "metadata": {},
   "outputs": [],
   "source": [
    "fig, axs = plt.subplots(2)\n",
    "\n",
    "axs[0].scatter(df['time'], df['gradient'])\n",
    "axs[0].set_title('Gradient Plot')\n",
    "axs[0].set_xlabel('Time')\n",
    "axs[0].set_ylabel('Gradient (%)')\n",
    "\n",
    "axs[1].scatter(df['time'], df['distance'])\n",
    "axs[1].set_title('Distance Plot')\n",
    "axs[1].set_xlabel('Time')\n",
    "axs[1].set_ylabel('Distance (m)')\n",
    "\n",
    "plt.subplots_adjust(hspace=.5)\n",
    "plt.show()"
   ]
  },
  {
   "cell_type": "code",
   "execution_count": null,
   "metadata": {},
   "outputs": [],
   "source": [
    "def threshold_zscores(data, threshold=3, default_value=None):\n",
    "  z_scores = stats.zscore(data)\n",
    "  if default_value is None:\n",
    "      default_value = np.mean(data)\n",
    "  return [val if abs(z) < threshold else default_value for (z, val) in zip(z_scores, data)]\n",
    "\n",
    "df['gradient'] = threshold_zscores(df['gradient'])\n",
    "sigma = 2  # You can adjust the sigma value to control the smoothing level\n",
    "df['gradient'] = gaussian_filter1d(df['gradient'], sigma=sigma)\n"
   ]
  },
  {
   "cell_type": "code",
   "execution_count": null,
   "metadata": {},
   "outputs": [],
   "source": [
    "df.hist(column='gradient', bins=20)"
   ]
  },
  {
   "cell_type": "markdown",
   "metadata": {},
   "source": [
    "## Advanced visualisations\n",
    "\n",
    "Overlay speed variable as color over total route graph"
   ]
  },
  {
   "cell_type": "code",
   "execution_count": null,
   "metadata": {},
   "outputs": [],
   "source": [
    "from folium import plugins\n",
    "import branca.colormap as cm\n",
    "\n",
    "def create_variate_map(df, column_name, units, save=False):\n",
    "\n",
    "    m = folium.Map(location=[df['latitude'].mean(), df['longitude'].mean()], zoom_start=11)\n",
    "\n",
    "    upper_column_name = column_name[0].upper() + column_name[1:]\n",
    "    # Create a color scale\n",
    "    colormap = cm.LinearColormap(colors=['green','yellow', 'red'], vmin=df[column_name].min(), vmax=df[column_name].max())\n",
    "    colormap.caption = f'{upper_column_name} ({units})'\n",
    "\n",
    "    # Add points to the map\n",
    "    for _, row in df.iterrows():\n",
    "        folium.CircleMarker(\n",
    "            location=[row['latitude'], row['longitude']],\n",
    "            radius=2,\n",
    "            popup=f\"{upper_column_name}: {row[column_name]} {units}\",\n",
    "            color=colormap(row[column_name]),\n",
    "            fill=True,\n",
    "            fill_color=colormap(row[column_name]),\n",
    "            fill_opacity=0.7\n",
    "        ).add_to(m)\n",
    "\n",
    "    # Add color scale to map\n",
    "    m.add_child(colormap)\n",
    "\n",
    "    # Save map to an HTML file\n",
    "    if save:\n",
    "        m.save('map.html')\n",
    "    return m\n"
   ]
  },
  {
   "cell_type": "code",
   "execution_count": null,
   "metadata": {},
   "outputs": [],
   "source": [
    "df['latitude'].mean(), df['longitude'].mean()"
   ]
  },
  {
   "cell_type": "code",
   "execution_count": null,
   "metadata": {},
   "outputs": [],
   "source": [
    "speed_map = create_variate_map(df, \"speed\", \"km/h\")\n",
    "speed_map"
   ]
  },
  {
   "cell_type": "code",
   "execution_count": null,
   "metadata": {},
   "outputs": [],
   "source": [
    "gradient_map = create_variate_map(df, \"gradient\", \"%\")\n",
    "gradient_map"
   ]
  },
  {
   "cell_type": "code",
   "execution_count": null,
   "metadata": {},
   "outputs": [],
   "source": [
    "elevation_map = create_variate_map(df, \"elevation\", \"m\")\n",
    "elevation_map"
   ]
  },
  {
   "cell_type": "code",
   "execution_count": null,
   "metadata": {},
   "outputs": [],
   "source": [
    "smoothed_speed_map = create_variate_map(df, \"speed_smoothed\", \"km/h\")\n",
    "smoothed_speed_map"
   ]
  },
  {
   "cell_type": "markdown",
   "metadata": {},
   "source": [
    "## Switching between layers"
   ]
  },
  {
   "cell_type": "code",
   "execution_count": null,
   "metadata": {},
   "outputs": [],
   "source": [
    "def create_feature_group(data, column_name,units,map, colors=['green', 'yellow', 'red']):\n",
    "    upper_column_name = column_name[0].upper() + column_name[1:]\n",
    "\n",
    "    colormap = cm.LinearColormap(colors, vmin=df[column_name].min(), vmax=df[column_name].max())\n",
    "    colormap.caption = f'{upper_column_name} ({units})'\n",
    "\n",
    "    feature_group = folium.FeatureGroup(name=upper_column_name)\n",
    "    for _, row in data.iterrows():\n",
    "        folium.CircleMarker(\n",
    "            location=[row['latitude'], row['longitude']],\n",
    "            radius=2,\n",
    "            popup=f\"{upper_column_name}: {row[column_name]} {units}\",\n",
    "            color=colormap(row[column_name]),\n",
    "            fill=True,\n",
    "            fill_color=colormap(row[column_name]),\n",
    "            fill_opacity=0.7\n",
    "        ).add_to(feature_group)\n",
    "    map.add_child(colormap)\n",
    "    return feature_group"
   ]
  },
  {
   "cell_type": "code",
   "execution_count": null,
   "metadata": {},
   "outputs": [],
   "source": [
    "\n",
    "\n",
    "layer_map = folium.Map(location=[df['latitude'].mean(), df['longitude'].mean()], zoom_start=11)\n",
    "\n",
    "# Create feature groups for each dataset\n",
    "feature_group1 = create_feature_group(df, 'speed', 'm/s', layer_map)\n",
    "feature_group2 = create_feature_group(df, 'elevation', 'm', layer_map)\n",
    "\n",
    "# Add feature groups to the map\n",
    "feature_group1.add_to(layer_map)\n",
    "feature_group2.add_to(layer_map)\n",
    "\n",
    "# Add LayerControl to switch between layers\n",
    "folium.LayerControl().add_to(layer_map)\n",
    "\n",
    "# layer_map.save('layermap.html')\n",
    "\n",
    "layer_map"
   ]
  },
  {
   "cell_type": "code",
   "execution_count": null,
   "metadata": {},
   "outputs": [],
   "source": []
  }
 ],
 "metadata": {
  "kernelspec": {
   "display_name": "Python 3",
   "language": "python",
   "name": "python3"
  },
  "language_info": {
   "codemirror_mode": {
    "name": "ipython",
    "version": 3
   },
   "file_extension": ".py",
   "mimetype": "text/x-python",
   "name": "python",
   "nbconvert_exporter": "python",
   "pygments_lexer": "ipython3",
   "version": "3.10.12"
  }
 },
 "nbformat": 4,
 "nbformat_minor": 2
}
