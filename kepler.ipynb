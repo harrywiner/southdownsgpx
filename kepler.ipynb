{
 "cells": [
  {
   "cell_type": "code",
   "execution_count": null,
   "metadata": {},
   "outputs": [],
   "source": [
    "from keplergl import KeplerGl\n",
    "import pandas as pd\n",
    "\n",
    "import json\n",
    "\n",
    "df = pd.read_csv(\"web/static/south_downs_way.csv\")\n",
    "\n",
    "# Path to your JSON configuration file\n",
    "json_path = './data/kepler.gl.json'\n",
    "\n",
    "# Load the JSON configuration\n",
    "with open(json_path, 'r') as f:\n",
    "    map_config = json.load(f)\n",
    "\n",
    "# Modify the width parameter in the JSON configuration\n",
    "map_config['config']['mapState']['height'] = 800\n",
    "\n",
    "# Initialize Kepler.gl with the modified configuration\n",
    "map_1 = KeplerGl(config=map_config, data={\"south_downs_way\": df})\n",
    "\n",
    "# Display the map\n",
    "map_1\n",
    "\n"
   ]
  },
  {
   "cell_type": "code",
   "execution_count": null,
   "metadata": {},
   "outputs": [],
   "source": []
  }
 ],
 "metadata": {
  "kernelspec": {
   "display_name": "Python 3",
   "language": "python",
   "name": "python3"
  },
  "language_info": {
   "codemirror_mode": {
    "name": "ipython",
    "version": 3
   },
   "file_extension": ".py",
   "mimetype": "text/x-python",
   "name": "python",
   "nbconvert_exporter": "python",
   "pygments_lexer": "ipython3",
   "version": "3.9.6"
  }
 },
 "nbformat": 4,
 "nbformat_minor": 2
}
